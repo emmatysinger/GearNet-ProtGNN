{
 "cells": [
  {
   "cell_type": "code",
   "execution_count": null,
   "metadata": {},
   "outputs": [],
   "source": [
    "from sklearn.manifold import TSNE\n",
    "import seaborn as sns\n",
    "import matplotlib.pyplot as plt\n",
    "import numpy as np\n",
    "import pickle\n",
    "import pandas as pd\n",
    "import torch\n",
    "from txgnn import TxData\n",
    "from umap import UMAP\n",
    "from sklearn.decomposition import PCA\n",
    "from sklearn.metrics import silhouette_score, silhouette_samples\n",
    "from matplotlib.patches import Patch\n",
    "from visualize_utils import visualize_pipeline, plot"
   ]
  },
  {
   "cell_type": "code",
   "execution_count": null,
   "metadata": {},
   "outputs": [],
   "source": [
    "pred_emb_path = '../Data/embeddings/gearnet_protgnn_embeds_noesm.pkl'\n",
    "with open(pred_emb_path, 'rb') as f:\n",
    "    pred_prot_embs = pickle.load(f)\n",
    "\n",
    "emb_path = '../Data/embeddings/protgnn_finetuned_noesm.pkl'\n",
    "with open(emb_path, 'rb') as f:\n",
    "    embeddings = pickle.load(f)\n",
    "prot_embs = embeddings['gene/protein']"
   ]
  },
  {
   "cell_type": "code",
   "execution_count": null,
   "metadata": {},
   "outputs": [],
   "source": [
    "tsne = TSNE(n_components=2, verbose=0, perplexity=40, n_iter=300)\n",
    "prot_tsne_results = tsne.fit_transform(prot_embs)\n",
    "\n",
    "tsne = TSNE(n_components=2, verbose=0, perplexity=40, n_iter=300)\n",
    "pred_tsne_results = tsne.fit_transform(pred_prot_embs)"
   ]
  },
  {
   "cell_type": "code",
   "execution_count": null,
   "metadata": {},
   "outputs": [],
   "source": [
    "combined_embs = np.vstack((prot_embs, pred_prot_embs))\n",
    "\n",
    "tsne = TSNE(n_components=2, verbose=0, perplexity=40, n_iter=300)\n",
    "combined_tsne_results = tsne.fit_transform(combined_embs)\n",
    "\n",
    "prot_tsne_results = combined_tsne_results[:len(prot_embs)]\n",
    "pred_tsne_results = combined_tsne_results[len(prot_embs):]"
   ]
  },
  {
   "cell_type": "code",
   "execution_count": null,
   "metadata": {},
   "outputs": [],
   "source": [
    "umap = UMAP(n_components=2)\n",
    "prot_umap_results = umap.fit_transform(prot_embs)\n",
    "pred_umap_results = umap.transform(pred_prot_embs)\n"
   ]
  },
  {
   "cell_type": "code",
   "execution_count": null,
   "metadata": {},
   "outputs": [],
   "source": [
    "pdb2idx_file = 'helper_files/pdb2txgnnIdx.csv'\n",
    "pdb2idx_df = pd.read_csv(pdb2idx_file)\n",
    "pdb2idx_dict = dict(zip(pdb2idx_df['pdb_idx'],pdb2idx_df['txgnn_idx']))"
   ]
  },
  {
   "cell_type": "code",
   "execution_count": null,
   "metadata": {},
   "outputs": [],
   "source": [
    "def get_target_embeds(data, map_dict, dtype = 'tensor', unique = False):\n",
    "    new_data = []\n",
    "    if unique:\n",
    "        for i in list(dict.fromkeys(map_dict.values())):\n",
    "            new_data.append(data[i])\n",
    "        if dtype == 'tensor':\n",
    "            new_data = torch.stack(new_data, axis=0)\n",
    "        elif dtype == 'numpy':\n",
    "            new_data = np.stack(new_data, axis=0)\n",
    "    else:\n",
    "        for i in range(max(map_dict.keys())+1):\n",
    "            new_data.append(data[map_dict[i]])\n",
    "        if dtype == 'tensor':\n",
    "            new_data = torch.stack(new_data, axis=0)\n",
    "        elif dtype == 'numpy':\n",
    "            new_data = np.stack(new_data, axis=0)\n",
    "    \n",
    "    return new_data"
   ]
  },
  {
   "cell_type": "code",
   "execution_count": null,
   "metadata": {},
   "outputs": [],
   "source": [
    "filtered_prot_embs = get_target_embeds(prot_embs, pdb2idx_dict, unique=True)"
   ]
  },
  {
   "cell_type": "code",
   "execution_count": null,
   "metadata": {},
   "outputs": [],
   "source": [
    "tsne = TSNE(n_components=2, verbose=0, perplexity=40, n_iter=300)\n",
    "prefiltered_prot_tsne_results = tsne.fit_transform(filtered_prot_embs)"
   ]
  },
  {
   "cell_type": "code",
   "execution_count": null,
   "metadata": {},
   "outputs": [],
   "source": [
    "unique_prot_tsne_results = get_target_embeds(prot_tsne_results, pdb2idx_dict, dtype='numpy', unique = True)\n",
    "unique_prot_umap_results = get_target_embeds(prot_umap_results, pdb2idx_dict, dtype='numpy', unique = True)\n",
    "unique_prot_pca_results = get_target_embeds(prot_pca_results, pdb2idx_dict, dtype='numpy', unique = True)\n"
   ]
  },
  {
   "cell_type": "code",
   "execution_count": null,
   "metadata": {},
   "outputs": [],
   "source": [
    "mf_embed_path = '../Data/embeddings/finetune_MF_emb.pkl'\n",
    "bp_embed_path = '../Data/embeddings/finetune_BP_emb.pkl'\n",
    "mf_bp_embed_path = '../Data/embeddings/finetune_MF_BP_emb.pkl'\n",
    "\n",
    "TxData_inst = TxData(data_folder_path = '../Data/PrimeKG/')\n",
    "TxData_inst.prepare_split(split = 'random', seed = 42, no_kg = False)"
   ]
  },
  {
   "cell_type": "code",
   "execution_count": null,
   "metadata": {},
   "outputs": [],
   "source": [
    "node_type = 'biological_process'\n",
    "prot_assignments  = visualize_pipeline(embed_path=mf_bp_embed_path, node_type = 'biological_process', TxData_inst=TxData_inst, kmeans=True, filter=None, return_clusters=True)\n",
    "color_palette = plot(prot_assignments, prot_tsne_results, num_classes=len(set(prot_assignments)), title='Protein Embeddings: Clustered by Secondary Level Biological Processes', return_colors = True)"
   ]
  },
  {
   "cell_type": "code",
   "execution_count": null,
   "metadata": {},
   "outputs": [],
   "source": [
    "new_prot_assignments = get_target_embeds(prot_assignments, pdb2idx_dict, dtype='list')\n",
    "unique_prot_assignments = get_target_embeds(prot_assignments, pdb2idx_dict, dtype='list', unique = True)\n",
    "\n",
    "plot(unique_prot_assignments, unique_prot_tsne_results, num_classes=len(set(new_prot_assignments)), title='Filtered Target Protein Embeddings from ProtGNN: Biological Process', colors = color_palette)\n",
    "plot(new_prot_assignments, pred_tsne_results, num_classes=len(set(new_prot_assignments)), title = 'Predicted Protein Embeddings from GearNet-ProtGNN: Biological Process', colors = color_palette)"
   ]
  },
  {
   "cell_type": "code",
   "execution_count": null,
   "metadata": {},
   "outputs": [],
   "source": [
    "color_palette = plot(prot_assignments, prot_tsne_results, num_classes=len(set(prot_assignments)), title='Protein Embeddings: Clustered by Secondary Level Biological Processes', return_colors = True)"
   ]
  },
  {
   "cell_type": "code",
   "execution_count": null,
   "metadata": {},
   "outputs": [],
   "source": [
    "plot(unique_prot_assignments, unique_prot_tsne_results, num_classes=len(set(new_prot_assignments)), title='Filtered Target Protein Embeddings from ProtGNN: Biological Process', colors = color_palette)\n",
    "plot(new_prot_assignments, pred_tsne_results, num_classes=len(set(new_prot_assignments)), title = 'Predicted Protein Embeddings from GearNet-ProtGNN: Biological Process', colors = color_palette)"
   ]
  },
  {
   "cell_type": "code",
   "execution_count": null,
   "metadata": {},
   "outputs": [],
   "source": [
    "node_type = 'molecular_function'\n",
    "prot_assignments_mf  = visualize_pipeline(embed_path=mf_bp_embed_path, node_type = node_type, TxData_inst=TxData_inst, kmeans=True, filter=None, return_clusters=True)"
   ]
  },
  {
   "cell_type": "code",
   "execution_count": null,
   "metadata": {},
   "outputs": [],
   "source": [
    "new_prot_assignments_mf = get_target_embeds(prot_assignments_mf, pdb2idx_dict, dtype='list')\n",
    "unique_prot_assignments_mf = get_target_embeds(prot_assignments_mf, pdb2idx_dict, dtype='list', unique=True)"
   ]
  },
  {
   "cell_type": "code",
   "execution_count": null,
   "metadata": {},
   "outputs": [],
   "source": [
    "color_palette_mf = plot(prot_assignments_mf, prot_tsne_results, num_classes=len(set(prot_assignments_mf)), title='Protein Embeddings: Clustered by Secondary Level Molecular Functions', return_colors = True)"
   ]
  },
  {
   "cell_type": "code",
   "execution_count": null,
   "metadata": {},
   "outputs": [],
   "source": [
    "plot(unique_prot_assignments_mf, unique_prot_tsne_results, num_classes=len(set(new_prot_assignments_mf)), colors = color_palette, title='Filtered Target Protein Embeddings from ProtGNN: Molecular Function')\n",
    "plot(new_prot_assignments_mf, pred_tsne_results, num_classes=len(set(new_prot_assignments_mf)), colors = color_palette, title = 'Predicted Protein Embeddings from GearNet-ProtGNN: Molecular Function')"
   ]
  },
  {
   "cell_type": "markdown",
   "metadata": {},
   "source": [
    "### Silouette analysis\n"
   ]
  },
  {
   "cell_type": "code",
   "execution_count": null,
   "metadata": {},
   "outputs": [],
   "source": [
    "def plot_silhouette(pred_tsne_results_filtered, recluster_array, color_palette, title=\"Silhouette analysis for Function Clusters for Protein Embeddings\", range_x = [-1,1], x_ticks=[-1, -0.8, -0.6, -0.4, -0.2, 0, 0.2, 0.4, 0.6, 0.8, 1]):\n",
    "    fig, (ax1) = plt.subplots(1, 1)\n",
    "    fig.set_size_inches(12, 8)\n",
    "    ax1.set_xlim(range_x)\n",
    "    ax1.set_ylim([0, len(pred_tsne_results_filtered) + (10 + 1) * 10])\n",
    "    silhouette_avg = silhouette_score(pred_tsne_results_filtered, recluster_array)\n",
    "    print(\n",
    "        \"For n_clusters =\",\n",
    "        10,\n",
    "        \"The average silhouette_score is :\",\n",
    "        silhouette_avg,\n",
    "    )\n",
    "\n",
    "    # Compute the silhouette scores for each sample\n",
    "    sample_silhouette_values = silhouette_samples(pred_tsne_results_filtered, recluster_array)\n",
    "\n",
    "    y_lower = 10\n",
    "    legend_handles = []\n",
    "    silhouette_clusters = {}\n",
    "    for idx, i in enumerate(list(color_palette.keys())):\n",
    "        # Aggregate the silhouette scores for samples belonging to\n",
    "        # cluster i, and sort them\n",
    "        ith_cluster_silhouette_values = sample_silhouette_values[recluster_array == i]\n",
    "\n",
    "        ith_cluster_silhouette_values.sort()\n",
    "\n",
    "        size_cluster_i = ith_cluster_silhouette_values.shape[0]\n",
    "        y_upper = y_lower + size_cluster_i\n",
    "        \n",
    "        silhouette_clusters[i] = np.mean(ith_cluster_silhouette_values)\n",
    "\n",
    "        color = color_palette[i]\n",
    "        ax1.fill_betweenx(\n",
    "            np.arange(y_lower, y_upper),\n",
    "            0,\n",
    "            ith_cluster_silhouette_values,\n",
    "            facecolor=color,\n",
    "            edgecolor=color,\n",
    "            alpha=0.7,\n",
    "        )\n",
    "\n",
    "\n",
    "        legend_handles.append(Patch(color=color, label=str(i)))\n",
    "\n",
    "        # Compute the new y_lower for next plot\n",
    "        y_lower = y_upper + 10  # 10 for the 0 samples\n",
    "\n",
    "    ax1.set_xlabel(\"Silhouette coefficient values\")\n",
    "    ax1.set_ylabel(\"Cluster label\")\n",
    "    ax1.set_title(title)\n",
    "\n",
    "    # The vertical line for average silhouette score of all the values\n",
    "    ax1.axvline(x=silhouette_avg, color=\"red\", linestyle=\"--\")\n",
    "    ax1.legend(handles=legend_handles[::-1], loc='lower right', bbox_to_anchor=(1, 0))\n",
    "\n",
    "    ax1.set_yticks([])  # Clear the yaxis labels / ticks\n",
    "    ax1.set_xticks(x_ticks)\n",
    "\n",
    "    plt.show()\n",
    "    return silhouette_clusters"
   ]
  },
  {
   "cell_type": "code",
   "execution_count": null,
   "metadata": {},
   "outputs": [],
   "source": [
    "silhouette_clusters_bp = plot_silhouette(prot_embs, np.array(prot_assignments), color_palette, range_x = [-0.4, 0.5], x_ticks = [-0.4, -0.2, 0, 0.2, 0.4, 0.5], title='Silhouette Analysis of ProtGNN Protein Embeddings for Biological Processes Clusters')"
   ]
  },
  {
   "cell_type": "code",
   "execution_count": null,
   "metadata": {},
   "outputs": [],
   "source": [
    "silhouette_clusters_mf = plot_silhouette(prot_embs, np.array(prot_assignments_mf), color_palette_mf, range_x = [-0.3, 0.3], x_ticks = [-0.3, -0.2, -0.1, 0, 0.1, 0.2, 0.3], title='Silhouette Analysis of ProtGNN Protein Embeddings for Molecular Function Clusters')"
   ]
  },
  {
   "cell_type": "code",
   "execution_count": null,
   "metadata": {},
   "outputs": [],
   "source": [
    "silhouette_clusters_bp"
   ]
  },
  {
   "cell_type": "code",
   "execution_count": null,
   "metadata": {},
   "outputs": [],
   "source": [
    "silhouette_clusters_mf"
   ]
  },
  {
   "cell_type": "code",
   "execution_count": null,
   "metadata": {},
   "outputs": [],
   "source": [
    "print('Latent Space: Predicted, Cluster: BP',silhouette_score(pred_prot_embs, new_prot_assignments))\n",
    "print('Latent Space: Target, Cluster: BP',silhouette_score(filtered_prot_embs, unique_prot_assignments))\n",
    "print('Latent Space: GearNet, Cluster: BP',silhouette_score(gearnet_embs, new_prot_assignments))\n",
    "print('Latent Space: Predicted, Cluster: MF',silhouette_score(pred_prot_embs, new_prot_assignments_mf))\n",
    "print('Latent Space: Target, Cluster: MF',silhouette_score(filtered_prot_embs, unique_prot_assignments_mf))\n",
    "print('Latent Space: GearNet, Cluster: MF',silhouette_score(gearnet_embs, new_prot_assignments_mf))"
   ]
  },
  {
   "cell_type": "code",
   "execution_count": null,
   "metadata": {},
   "outputs": [],
   "source": [
    "silhouette_clusters_mf_filtered = plot_silhouette(filtered_prot_embs, np.array(unique_prot_assignments_mf), color_palette_mf, range_x = [-0.2, 0.2], x_ticks = [-0.2, 0, 0.2], title='Silhouette Analysis of ProtGNN Protein Embeddings for Molecular Function Clusters')"
   ]
  },
  {
   "cell_type": "code",
   "execution_count": null,
   "metadata": {},
   "outputs": [],
   "source": [
    "silhouette_clusters_mf_filtered"
   ]
  }
 ],
 "metadata": {
  "kernelspec": {
   "display_name": "txgnn_env2",
   "language": "python",
   "name": "python3"
  },
  "language_info": {
   "codemirror_mode": {
    "name": "ipython",
    "version": 3
   },
   "file_extension": ".py",
   "mimetype": "text/x-python",
   "name": "python",
   "nbconvert_exporter": "python",
   "pygments_lexer": "ipython3",
   "version": "3.8.18"
  }
 },
 "nbformat": 4,
 "nbformat_minor": 2
}
