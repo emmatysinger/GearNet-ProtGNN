{
 "cells": [
  {
   "cell_type": "code",
   "execution_count": null,
   "metadata": {},
   "outputs": [],
   "source": [
    "import pandas as pd\n",
    "import sys\n",
    "\n",
    "sys.path.insert(0, '../ProtGNN')\n",
    "\n",
    "from sklearn.manifold import TSNE\n",
    "import seaborn as sns\n",
    "import matplotlib.pyplot as plt\n",
    "import numpy as np\n",
    "import pickle\n",
    "import torch\n",
    "from collections import Counter\n",
    "import numpy as np\n",
    "from sklearn.metrics import silhouette_score, silhouette_samples\n",
    "from matplotlib.patches import Patch"
   ]
  },
  {
   "cell_type": "markdown",
   "metadata": {},
   "source": [
    "## Visualizing predicted embedding space"
   ]
  },
  {
   "cell_type": "code",
   "execution_count": null,
   "metadata": {},
   "outputs": [],
   "source": [
    "pred_emb_path = '../Data/embeddings/gearnet_protgnn_embeds_noesm.pkl'\n",
    "with open(pred_emb_path, 'rb') as f:\n",
    "    pred_prot_embs = pickle.load(f)\n",
    "\n",
    "emb_path = '../Data/embeddings/protgnn_finetuned_noesm.pkl'\n",
    "with open(emb_path, 'rb') as f:\n",
    "    embeddings = pickle.load(f)\n",
    "prot_embs = embeddings['gene/protein']"
   ]
  },
  {
   "cell_type": "code",
   "execution_count": null,
   "metadata": {},
   "outputs": [],
   "source": [
    "gearnet_path = '../Data/embeddings/gearnet_embeds.pkl'\n",
    "with open(gearnet_path, 'rb') as f:\n",
    "    gearnet_embs = pickle.load(f)"
   ]
  },
  {
   "cell_type": "code",
   "execution_count": null,
   "metadata": {},
   "outputs": [],
   "source": [
    "tsne = TSNE(n_components=2, verbose=0, perplexity=40, n_iter=300)\n",
    "just_prot_tsne_results = tsne.fit_transform(prot_embs)"
   ]
  },
  {
   "cell_type": "code",
   "execution_count": null,
   "metadata": {},
   "outputs": [],
   "source": [
    "tsne = TSNE(n_components=2, verbose=0, perplexity=40, n_iter=300)\n",
    "gearnet_tsne_results = tsne.fit_transform(gearnet_embs)"
   ]
  },
  {
   "cell_type": "code",
   "execution_count": null,
   "metadata": {},
   "outputs": [],
   "source": [
    "combined_embs = np.vstack((prot_embs, pred_prot_embs))\n",
    "\n",
    "tsne = TSNE(n_components=2, verbose=0, perplexity=40, n_iter=300)\n",
    "combined_tsne_results = tsne.fit_transform(combined_embs)\n",
    "\n",
    "prot_tsne_results = combined_tsne_results[:len(prot_embs)]\n",
    "pred_tsne_results = combined_tsne_results[len(prot_embs):]"
   ]
  },
  {
   "cell_type": "code",
   "execution_count": null,
   "metadata": {},
   "outputs": [],
   "source": [
    "pdb2idx_file = 'helper_files/pdb2txgnnIdx.csv'\n",
    "pdb2idx_df = pd.read_csv(pdb2idx_file)\n",
    "pdb2idx_dict = dict(zip(pdb2idx_df['pdb_idx'],pdb2idx_df['txgnn_idx']))\n",
    "\n",
    "def get_target_embeds(data, map_dict, dtype = 'tensor', unique = False):\n",
    "    new_data = []\n",
    "    if unique:\n",
    "        for i in list(dict.fromkeys(map_dict.values())):\n",
    "            new_data.append(data[i])\n",
    "        if dtype == 'tensor':\n",
    "            new_data = torch.stack(new_data, axis=0)\n",
    "        elif dtype == 'numpy':\n",
    "            new_data = np.stack(new_data, axis=0)\n",
    "    else:\n",
    "        for i in range(max(map_dict.keys())+1):\n",
    "            new_data.append(data[map_dict[i]])\n",
    "        if dtype == 'tensor':\n",
    "            new_data = torch.stack(new_data, axis=0)\n",
    "        elif dtype == 'numpy':\n",
    "            new_data = np.stack(new_data, axis=0)\n",
    "    \n",
    "    return new_data"
   ]
  },
  {
   "cell_type": "code",
   "execution_count": null,
   "metadata": {},
   "outputs": [],
   "source": [
    "filtered_prot_embs = get_target_embeds(prot_embs, pdb2idx_dict, unique=False)"
   ]
  },
  {
   "cell_type": "code",
   "execution_count": null,
   "metadata": {},
   "outputs": [],
   "source": [
    "filtered_prot_tsne_results = get_target_embeds(prot_tsne_results, pdb2idx_dict, dtype='numpy')"
   ]
  },
  {
   "cell_type": "code",
   "execution_count": null,
   "metadata": {},
   "outputs": [],
   "source": [
    "pdb2cath_df = pd.read_csv('..Data/cath_superfamily_data.csv')\n",
    "pdb2cath_dict = dict(zip(pdb2cath_df['PDB IDX'], pdb2cath_df['Superfamily Name']))\n",
    "pdb2cathid_dict = dict(zip(pdb2cath_df['PDB IDX'], pdb2cath_df['Superfamily ID']))\n",
    "\n",
    "cluster_list = [pdb2cathid_dict[i] if i in pdb2cathid_dict else 'Other' for i in range(len(gearnet_embs))]"
   ]
  },
  {
   "cell_type": "code",
   "execution_count": null,
   "metadata": {},
   "outputs": [],
   "source": [
    "consolidated_clusters = ['.'.join(cluster.split('.')[:3]) if type(cluster) != float else 'Other' for cluster in cluster_list]"
   ]
  },
  {
   "cell_type": "code",
   "execution_count": null,
   "metadata": {},
   "outputs": [],
   "source": [
    "cluster2name = {\n",
    "    '2.60.40': 'Mainly Beta, Sandwich, Immunoglobin-like',\n",
    "    '3.40.50': 'Alpha-Beta, 3-layer(aba) Sandwich, Rossman Fold',\n",
    "    '2.30.30': 'Mainly Beta, Roll, SH3 Type Barrels',\n",
    "    '3.30.70': 'Alpha-Beta, 2-layer Sandwich, Alpha-Beta Plaits',\n",
    "    '3.10.20': 'Alpha-Beta, Roll, Ubiquitin-like',\n",
    "    '1.10.10': 'Mainly Alpha, Orthogonal Bundle, Arc Repressor Mutant',\n",
    "    '3.40.30': 'Alpha-Beta, 3-layer(aba) Sandwich, Glutaredoxin',\n",
    "    '3.30.200': 'Alpha-Beta, 2-layer Sandwich, Phosphorylase Kinase',\n",
    "    '2.60.120': 'Mainly Beta, Sandwich, Jelly Rolls', \n",
    "    'Other': 'Other'\n",
    "}"
   ]
  },
  {
   "cell_type": "code",
   "execution_count": null,
   "metadata": {},
   "outputs": [],
   "source": [
    "cluster_counts = Counter(consolidated_clusters)\n",
    "top_19_clusters = [cluster for cluster, count in cluster_counts.most_common(10) if cluster not in ['Other', np.nan]]\n",
    "recluster_list = [i if i in top_19_clusters else 'Other' for i in consolidated_clusters]\n",
    "recluster_list_name = [cluster2name[i] for i in recluster_list]"
   ]
  },
  {
   "cell_type": "code",
   "execution_count": null,
   "metadata": {},
   "outputs": [],
   "source": [
    "def plot(cluster_list, tsne_results, title= 'Protein Embeddings', colors = None, legend=\"full\", other=True, num_classes=12, transform_type='t-SNE', return_colors=False):\n",
    "    df = pd.DataFrame()\n",
    "    df[f'{transform_type} 1'] = tsne_results[:,0]\n",
    "    df[f'{transform_type} 2'] = tsne_results[:,1]\n",
    "    df['cluster'] = cluster_list\n",
    "\n",
    "    \n",
    "    if not colors:\n",
    "        palette = sns.color_palette(\"tab10\", num_classes)\n",
    "        colors = {cluster: color for cluster, color in zip(df['cluster'].unique(), palette)}\n",
    "        colors['Other'] = (211/255.0, 211/255.0, 211/255.0, 1.0)\n",
    "\n",
    "    plt.figure(figsize=(10,10))\n",
    "\n",
    "    s = 15 if transform_type == 'UMAP' else 20\n",
    "\n",
    "    sns.scatterplot(\n",
    "        x=f'{transform_type} 1', y=f'{transform_type} 2',\n",
    "        hue='cluster',\n",
    "        palette = colors,\n",
    "        data=df[df['cluster'] == 'Other'],\n",
    "        legend=True,  \n",
    "        alpha=0.6,\n",
    "        s=10\n",
    "    )\n",
    "\n",
    "    sns.scatterplot(\n",
    "        x=f'{transform_type} 1', y=f'{transform_type} 2',\n",
    "        hue='cluster',\n",
    "        palette = colors,\n",
    "        data=df[df['cluster'] != 'Other'],\n",
    "        legend=\"full\",\n",
    "        alpha=0.6,\n",
    "        s=s \n",
    "    )\n",
    "    if transform_type == 'UMAP':\n",
    "        plt.xlim((0,20))\n",
    "        plt.ylim((-2,10))\n",
    "        pass\n",
    "    plt.title(title)\n",
    "\n",
    "    plt.legend(title='Structure Types', loc='upper center', bbox_to_anchor=(0.5, -0.1), ncol=2)\n",
    "    plt.subplots_adjust(bottom=0.3)  \n",
    "    #plt.subplots_adjust(right=0.7)\n",
    "    plt.show()\n",
    "\n",
    "    if return_colors:\n",
    "        return colors"
   ]
  },
  {
   "cell_type": "code",
   "execution_count": null,
   "metadata": {},
   "outputs": [],
   "source": [
    "color_palette = plot(recluster_list_name, pred_tsne_results, num_classes = 10, title = 'Predicted Protein Embeddings from GearNet-ProtGNN colored by CAT Structural Family', return_colors=True)"
   ]
  },
  {
   "cell_type": "code",
   "execution_count": null,
   "metadata": {},
   "outputs": [],
   "source": [
    "plot(recluster_list_name, pred_tsne_results, num_classes = 10, title = 'Predicted Protein Embeddings from GearNet-ProtGNN colored by Protein Structural Family')\n",
    "plot(recluster_list_name, filtered_prot_tsne_results, num_classes = 10, title = 'Target Protein Embeddings from ProtGNN colored by Protein Structural Family')\n"
   ]
  },
  {
   "cell_type": "markdown",
   "metadata": {},
   "source": [
    "## Silhouette Score"
   ]
  },
  {
   "cell_type": "code",
   "execution_count": null,
   "metadata": {},
   "outputs": [],
   "source": [
    "def plot_silhouette(pred_tsne_results_filtered, recluster_array, color_palette, title=\"Silhouette analysis for Function Clusters for Protein Embeddings\", range_x = [-1,1], x_ticks=[-1, -0.8, -0.6, -0.4, -0.2, 0, 0.2, 0.4, 0.6, 0.8, 1]):\n",
    "    \n",
    "    #filter by other\n",
    "    pred_tsne_results_filtered = pred_tsne_results_filtered[recluster_array != 'Other']\n",
    "    recluster_array = recluster_array[recluster_array != 'Other']\n",
    "    \n",
    "    # Create a subplot with 1 row and 2 columns\n",
    "    fig, (ax1) = plt.subplots(1, 1)\n",
    "    fig.set_size_inches(12, 8)\n",
    "    ax1.set_xlim(range_x)\n",
    "    ax1.set_ylim([0, len(pred_tsne_results_filtered) + (10 + 1) * 10])\n",
    "\n",
    "    silhouette_avg = silhouette_score(pred_tsne_results_filtered, recluster_array)\n",
    "    print(\n",
    "        \"For n_clusters =\",\n",
    "        10,\n",
    "        \"The average silhouette_score is :\",\n",
    "        silhouette_avg,\n",
    "    )\n",
    "\n",
    "    sample_silhouette_values = silhouette_samples(pred_tsne_results_filtered, recluster_array)\n",
    "\n",
    "    y_lower = 10\n",
    "    legend_handles = []\n",
    "    silhouette_clusters = {}\n",
    "    for idx, i in enumerate(list(color_palette.keys())):\n",
    "        ith_cluster_silhouette_values = sample_silhouette_values[recluster_array == i]\n",
    "\n",
    "        ith_cluster_silhouette_values.sort()\n",
    "\n",
    "        size_cluster_i = ith_cluster_silhouette_values.shape[0]\n",
    "        y_upper = y_lower + size_cluster_i\n",
    "        \n",
    "        silhouette_clusters[i] = np.mean(ith_cluster_silhouette_values)\n",
    "\n",
    "        color = color_palette[i]\n",
    "        ax1.fill_betweenx(\n",
    "            np.arange(y_lower, y_upper),\n",
    "            0,\n",
    "            ith_cluster_silhouette_values,\n",
    "            facecolor=color,\n",
    "            edgecolor=color,\n",
    "            alpha=0.7,\n",
    "        )\n",
    "\n",
    "        # Label the silhouette plots with their cluster numbers at the middle\n",
    "        #ax1.text(-0.15, y_lower + 0.5 * size_cluster_i, str(i), va='center', ha='right', fontsize=10)\n",
    "        #ax1.text(-0.05, y_lower + 0.5 * size_cluster_i, str(i))\n",
    "\n",
    "        legend_handles.append(Patch(color=color, label=str(i)))\n",
    "\n",
    "        y_lower = y_upper + 10  \n",
    "\n",
    "    ax1.set_xlabel(\"Silhouette coefficient values\")\n",
    "    ax1.set_ylabel(\"Cluster label\")\n",
    "    ax1.set_title(title)\n",
    "\n",
    "    ax1.axvline(x=silhouette_avg, color=\"red\", linestyle=\"--\")\n",
    "    #ax1.legend(handles=legend_handles[::-1], loc='lower right', bbox_to_anchor=(1, 0))\n",
    "\n",
    "    ax1.set_yticks([])  \n",
    "    ax1.set_xticks(x_ticks)\n",
    "\n",
    "    plt.show()\n",
    "    return silhouette_clusters"
   ]
  },
  {
   "cell_type": "code",
   "execution_count": null,
   "metadata": {},
   "outputs": [],
   "source": [
    "print('Latent Space: Predicted, Cluster: Structure',silhouette_score(pred_prot_embs, recluster_list))\n",
    "print('Latent Space: Target, Cluster: Structure',silhouette_score(filtered_prot_embs, recluster_list))\n",
    "print('Latent Space: GearNet, Cluster: Structure',silhouette_score(gearnet_embs, recluster_list))"
   ]
  },
  {
   "cell_type": "code",
   "execution_count": null,
   "metadata": {},
   "outputs": [],
   "source": [
    "silhouette_clusters_pred = plot_silhouette(pred_prot_embs, np.array(recluster_list_name), color_palette, range_x = [-0.4, 0.4], x_ticks = [-0.4, -0.2, 0, 0.2, 0.4], title='Silhouette Analysis of Predicted Protein Embeddings by Protein Structural Family')"
   ]
  },
  {
   "cell_type": "code",
   "execution_count": null,
   "metadata": {},
   "outputs": [],
   "source": [
    "silhouette_clusters_pred"
   ]
  },
  {
   "cell_type": "code",
   "execution_count": null,
   "metadata": {},
   "outputs": [],
   "source": [
    "silhouette_clusters_gearnet = plot_silhouette(filtered_prot_embs, np.array(recluster_list_name), color_palette, range_x = [-0.4, 0.5], x_ticks = [-0.4, -0.2, 0, 0.2, 0.4, 0.5], title='Silhouette Analysis of GearNet-Edge Protein Embeddings by Protein Structural Family')"
   ]
  }
 ],
 "metadata": {
  "kernelspec": {
   "display_name": "gearnetenv",
   "language": "python",
   "name": "python3"
  },
  "language_info": {
   "codemirror_mode": {
    "name": "ipython",
    "version": 3
   },
   "file_extension": ".py",
   "mimetype": "text/x-python",
   "name": "python",
   "nbconvert_exporter": "python",
   "pygments_lexer": "ipython3",
   "version": "3.8.18"
  }
 },
 "nbformat": 4,
 "nbformat_minor": 2
}
